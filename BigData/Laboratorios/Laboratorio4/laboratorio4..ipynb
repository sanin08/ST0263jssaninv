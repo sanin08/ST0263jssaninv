﻿{
  "metadata": {
    "name": "laboratorio4",
    "kernelspec": {
      "language": "scala",
      "name": "spark2-scala"
    },
    "language_info": {
      "codemirror_mode": "text/x-scala",
      "file_extension": ".scala",
      "mimetype": "text/x-scala",
      "name": "scala",
      "pygments_lexer": "scala"
    }
  },
  "nbformat": 4,
  "nbformat_minor": 2,
  "cells": [
    {
      "cell_type": "code",
      "execution_count": 0,
      "metadata": {
        "autoscroll": "auto"
      },
      "outputs": [],
      "source": "%spark.pyspark\ndf\u003dspark.read.csv(\u0027s3://datasetsjssaninv/jssaninv/datasets/spark/covid/\u0027,inferSchema\u003dTrue,header\u003dTrue)"
    },
    {
      "cell_type": "code",
      "execution_count": 1,
      "metadata": {
        "autoscroll": "auto"
      },
      "outputs": [],
      "source": "%spark.pyspark\ndf.createOrReplaceTempView(\"covid1\")"
    },
    {
      "cell_type": "code",
      "execution_count": 2,
      "metadata": {
        "autoscroll": "auto"
      },
      "outputs": [],
      "source": "%spark.pyspark\ndf_1_zeppelin \u003d spark.sql(\"SELECT `nombre departamento`, count(*) FROM covid1 GROUP BY `nombre departamento` ORDER BY count(*) DESC LIMIT 10;\")"
    },
    {
      "cell_type": "code",
      "execution_count": 3,
      "metadata": {
        "autoscroll": "auto"
      },
      "outputs": [],
      "source": "%spark.pyspark\n"
    },
    {
      "cell_type": "code",
      "execution_count": 4,
      "metadata": {
        "autoscroll": "auto"
      },
      "outputs": [],
      "source": "%spark.pyspark\ndf_1_zeppelin.show()"
    },
    {
      "cell_type": "code",
      "execution_count": 5,
      "metadata": {
        "autoscroll": "auto"
      },
      "outputs": [],
      "source": "%spark.pyspark\ndf_2_zeppelin \u003d spark.sql(\"SELECT `nombre municipio`, count(*) FROM covid1 GROUP BY `nombre municipio` ORDER BY count(*) DESC LIMIT 10;\")"
    },
    {
      "cell_type": "code",
      "execution_count": 6,
      "metadata": {
        "autoscroll": "auto"
      },
      "outputs": [],
      "source": "%spark.pyspark\ndf_2_zeppelin.show()"
    },
    {
      "cell_type": "code",
      "execution_count": 7,
      "metadata": {
        "autoscroll": "auto"
      },
      "outputs": [],
      "source": "%spark.pyspark\ndf_3_zeppelin \u003d spark.sql(\"SELECT `fecha de diagnóstico`, count(*) FROM covid1 GROUP BY `fecha de diagnóstico` ORDER BY count(*) DESC LIMIT 10;\")"
    },
    {
      "cell_type": "code",
      "execution_count": 8,
      "metadata": {
        "autoscroll": "auto"
      },
      "outputs": [],
      "source": "%spark.pyspark\ndf_3_zeppelin.show()"
    },
    {
      "cell_type": "code",
      "execution_count": 9,
      "metadata": {
        "autoscroll": "auto"
      },
      "outputs": [],
      "source": "%spark.pyspark\ndf_4_zeppelin \u003d spark.sql(\"SELECT edad, count(*) FROM covid1 GROUP BY edad ORDER BY count(*);\")"
    },
    {
      "cell_type": "code",
      "execution_count": 10,
      "metadata": {
        "autoscroll": "auto"
      },
      "outputs": [],
      "source": "%spark.pyspark\ndf_4_zeppelin.show()"
    },
    {
      "cell_type": "code",
      "execution_count": 11,
      "metadata": {
        "autoscroll": "auto"
      },
      "outputs": [],
      "source": "%spark.pyspark\ndf_5_zeppelin \u003d spark.sql(\"SELECT `nombre departamento`, estado, count(*) FROM covid1 GROUP BY `estado`, `nombre departamento` ORDER BY `nombre departamento` ;\")"
    },
    {
      "cell_type": "code",
      "execution_count": 12,
      "metadata": {
        "autoscroll": "auto"
      },
      "outputs": [],
      "source": "%spark.pyspark\ndf_5_zeppelin.show()"
    },
    {
      "cell_type": "code",
      "execution_count": 13,
      "metadata": {
        "autoscroll": "auto"
      },
      "outputs": [],
      "source": "%spark.pyspark\ndf_1_zeppelin.coalesce(1).write.csv(\"s3://datasetsjssaninv/jssaninv/laboratorio4/4-1\",header\u003d\"true\")\ndf_2_zeppelin.coalesce(1).write.csv(\"s3://datasetsjssaninv/jssaninv/laboratorio4/4-2\",header\u003d\"true\")\ndf_3_zeppelin.coalesce(1).write.csv(\"s3://datasetsjssaninv/jssaninv/laboratorio4/4-3\",header\u003d\"true\")\ndf_4_zeppelin.coalesce(1).write.csv(\"s3://datasetsjssaninv/jssaninv/laboratorio4/4-4\",header\u003d\"true\")\ndf_5_zeppelin.coalesce(1).write.csv(\"s3://datasetsjssaninv/jssaninv/laboratorio4/4-5\",header\u003d\"true\")"
    },
    {
      "cell_type": "code",
      "execution_count": 14,
      "metadata": {
        "autoscroll": "auto"
      },
      "outputs": [],
      "source": "%spark.pyspark\n"
    }
  ]
}